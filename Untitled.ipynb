{
 "cells": [
  {
   "cell_type": "code",
   "execution_count": 22,
   "id": "556ba5ab-4a07-4963-9c97-9bf7eae01185",
   "metadata": {},
   "outputs": [],
   "source": [
    "import numpy as np\n",
    "import matplotlib.pyplot as plt\n",
    "import pandas as pd\n",
    "from scipy.spatial import KDTree\n",
    "import TuLIP\n",
    "\n",
    "def check_closest_sill_temp(T_field, sills_array, curr_sill, dx, dy, T_solidus=800, no_sill = '', calculate_all = False, save_file = None):\n",
    "        '''\n",
    "        Function that calculates the closest sill to a given sill based on temperature data and spatial arrangement. \n",
    "        It uses a KDTree to find the nearest sill that is hotter than a specified solidus temperature and optionally saves the results to a CSV file.\n",
    "        T_field: 2D numpy array representing temperature values.\n",
    "        sills_array: 2D numpy array representing sill identifiers.\n",
    "        curr_sill: Integer representing the current sill identifier.\n",
    "        T_solidus: Float representing the solidus temperature threshold (default is 800).\n",
    "        no_sill: Value representing no sill in the array (default is an empty string).\n",
    "        calculate_all: Boolean indicating whether to calculate for all sills (default is False).\n",
    "        save_file: String representing the file path to save results (default is None).\n",
    "        '''\n",
    "        def get_width_and_thickness(bool_array):\n",
    "            max_row = np.max(np.where(bool_array==True)[1])\n",
    "            min_row = np.min(np.where(bool_array==True)[1])\n",
    "            width = max_row - min_row + 1\n",
    "            max_col = np.max(np.where(bool_array==True)[0])\n",
    "            min_col = np.min(np.where(bool_array==True)[0])\n",
    "            thickness = max_col - min_col + 1\n",
    "            return width, thickness\n",
    "    \n",
    "        is_sill = np.array((sills_array!=no_sill))\n",
    "        is_curr_sill = sills_array==curr_sill\n",
    "        print('Sill nodes',np.sum(is_sill))\n",
    "        print('Hot sills', np.sum(T_field>T_solidus))\n",
    "        boundary_finder = np.array(is_sill, dtype=int)\n",
    "        boundary_finder[1:-1, 1:-1] = (\n",
    "        boundary_finder[:-2, 1:-1] +  # Above\n",
    "        boundary_finder[2:, 1:-1] +   # Below\n",
    "        boundary_finder[1:-1, :-2] +  # Left\n",
    "        boundary_finder[1:-1, 2:])     # Right\n",
    "        sills_number = sills_array.copy()\n",
    "        sills_number[sills_array==no_sill] = -1\n",
    "        #tot_sills = np.max(sills_array)\n",
    "        #sills_list = np.arange(0,tot_sills+1, step=1)\n",
    "        sills_data = pd.DataFrame({'sills':curr_sill}, index = [0])\n",
    "        a,b = T_field.shape\n",
    "        rows = np.arange(a)\n",
    "        columns = np.arange(b)\n",
    "        rows_grid, columns_grid = np.meshgrid(rows, columns, indexing='ij')\n",
    "        points = np.column_stack((rows_grid.ravel(), columns_grid.ravel()))\n",
    "        points = points.reshape(-1,2)\n",
    "        if calculate_all:\n",
    "            tot_sills = curr_sill\n",
    "            all_sills_data = pd.DataFrame(columns=['sills', 'closest_sill', 'distance', 'index', 'temperature'])\n",
    "            for curr_sill in range(tot_sills):\n",
    "                condition = (T_field>T_solidus) & (sills_number!=-1) & (sills_number!=curr_sill)\n",
    "                query_condition = (sills_number == curr_sill) & (boundary_finder > 0) & (boundary_finder < 4)\n",
    "                query_points = points[query_condition.ravel()]\n",
    "                saved_distance = 1e10\n",
    "                saved_index = -1\n",
    "                saved_temperature = -1\n",
    "                saved_sill = -1\n",
    "                filtered_points = points[condition.ravel()]\n",
    "                tree = KDTree(filtered_points)\n",
    "                if len(query_points)>0:\n",
    "                    for curr_point in query_points:\n",
    "                        distance, index = tree.query(curr_point)\n",
    "                        if distance<saved_distance:\n",
    "                            index1 = filtered_points[index]\n",
    "                            saved_distance = distance\n",
    "                            saved_index = str(index1)\n",
    "                            saved_temperature = T_field[index1[0], index1[1]]\n",
    "                            saved_sill = sills_array[index1[0], index1[1]]\n",
    "                            closest_curr_sill = str(curr_point)\n",
    "                            is_closest_sill_curr = (sills_array == saved_sill) & (T_field>T_solidus)\n",
    "                            closest_sill_width_curr, closest_sill_thickness_curr = get_width_and_thickness(is_closest_sill_curr)\n",
    "                            is_closest_sill = (sills_array == saved_sill)\n",
    "                            closest_sill_width, closest_sill_thickness = get_width_and_thickness(is_closest_sill)\n",
    "                            curr_sill_width, curr_sill_thickness = get_width_and_thickness(is_curr_sill)\n",
    "                sills_data['closest_sill'] = saved_sill\n",
    "                sills_data['distance'] = saved_distance\n",
    "                sills_data['index of closest sill'] = saved_index\n",
    "                sills_data['temperature'] = saved_temperature\n",
    "                sills_data['index of current sill'] = closest_curr_sill\n",
    "                sills_data['width of current sill'] = curr_sill_width\n",
    "                sills_data['thickness of current sill'] = curr_sill_thickness\n",
    "                sills_data['width of closest sill'] = closest_sill_width_curr\n",
    "                sills_data['thickness of closest sill'] = closest_sill_thickness_curr\n",
    "                sills_data['original width of closest sill'] = closest_sill_width\n",
    "                sills_data['original thickness of closest sill'] = closest_sill_thickness\n",
    "                \n",
    "            pd.concat([all_sills_data, sills_data], reset_index = True)\n",
    "            if save_file is None:\n",
    "                return all_sills_data\n",
    "            else:\n",
    "                all_sills_data.to_csv(save_file+'.csv')\n",
    "                return all_sills_data\n",
    "        else:\n",
    "            condition = (T_field>T_solidus) & (sills_number!=-1) & (sills_number!=curr_sill)\n",
    "            query_condition = (sills_number == curr_sill) & (boundary_finder > 0) & (boundary_finder < 4)\n",
    "            query_points = points[query_condition.ravel()]\n",
    "            saved_distance = 1e10\n",
    "            saved_index = -1\n",
    "            saved_temperature = -1\n",
    "            saved_sill = -1\n",
    "            filtered_points = points[condition.ravel()]\n",
    "            tree = KDTree(filtered_points)\n",
    "            if len(query_points)>0:\n",
    "                for curr_point in query_points:\n",
    "                    distance, index = tree.query(curr_point)\n",
    "                    if distance<saved_distance:\n",
    "                        index1 = filtered_points[index]\n",
    "                        saved_distance = distance\n",
    "                        saved_index = str(index1)\n",
    "                        saved_temperature = T_field[index1[0], index1[1]]\n",
    "                        saved_sill = sills_array[index1[0], index1[1]]\n",
    "                        closest_curr_sill = str(curr_point)\n",
    "                        is_closest_sill_curr = (sills_array == saved_sill) & (T_field>T_solidus)\n",
    "                        closest_sill_width_curr, closest_sill_thickness_curr = get_width_and_thickness(is_closest_sill_curr)\n",
    "                        is_closest_sill = (sills_array == saved_sill)\n",
    "                        closest_sill_width, closest_sill_thickness = get_width_and_thickness(is_closest_sill)\n",
    "                        curr_sill_width, curr_sill_thickness = get_width_and_thickness(is_curr_sill)\n",
    "                sills_data['closest_sill'] = saved_sill\n",
    "                sills_data['distance'] = saved_distance\n",
    "                sills_data['index of closest sill'] = saved_index\n",
    "                sills_data['temperature'] = saved_temperature\n",
    "                sills_data['index of current sill'] = closest_curr_sill\n",
    "                sills_data['width of current sill'] = curr_sill_width\n",
    "                sills_data['thickness of current sill'] = curr_sill_thickness\n",
    "                sills_data['width of closest sill'] = closest_sill_width_curr\n",
    "                sills_data['thickness of closest sill'] = closest_sill_thickness_curr\n",
    "                sills_data['original width of closest sill'] = closest_sill_width\n",
    "                sills_data['original thickness of closest sill'] = closest_sill_thickness\n",
    "        return sills_data"
   ]
  },
  {
   "cell_type": "code",
   "execution_count": 46,
   "id": "876013d5-e492-4315-bc2d-ebfe72bd5f21",
   "metadata": {},
   "outputs": [
    {
     "name": "stdout",
     "output_type": "stream",
     "text": [
      "[0 0 0 0 0 0 0 0 0 0 0 0 0 0 0 0 0 0 0 0 0 0 0 0 0 0 0 0 0 0 0 0 0 0 0 0 0\n",
      " 0 0 0 0 0 0 0 0 0 0 0 0 0 0 0 0 0 0 0 0 0 0 0 0 0 0 0 0 0 0 0 0 0 0 0 0 0\n",
      " 0 0 0 0 0 0 0 0 0 0 0 0 0 0 0 0 0 0 0 0 0 0 0 0 0 0 1 1 1 1 1 1 1 1 1 1 1\n",
      " 1 1 1 1 1 1 1 1 1 1 1 1 1 1 1 1 1 1 1 1 1 1 1 1 1 1 1 1 1 1 1 1 1 1 1 1 1\n",
      " 1 1 1 1 1 1 1 1 1 1 1 1 1 1 1 1 1 1 1 1 1 1 1 1 1 1 1 1 1 1 1 1 1 1 1 1 1\n",
      " 1 1 1 1 1 1 1 1 1 1 1 1 1 1 1 2 2 2 2 2 2 2 2 2 2 2 2 2 2 2 2 2 2 2 2 2 2\n",
      " 2 2 2 2 2 2 2 2 2 2 2 2 2 2 2 2 2 2 2 2 2 2 2 2 2 2 2 2 2 2 2 2 2 2 2 2 2\n",
      " 2 2 2 2 2 2 2 2 2 2 2 2 2 2 2 2 2 2 2 2 2 2 2 2 2 2 2 2 2 2 2 2 2 2 2 2 2\n",
      " 2 2 2 2 3 3 3 3 3 3 3 3 3 3 3 3 3 3 3 3 3 3 3 3 3 3 3 3 3 3 3 3 3 3 3 3 3\n",
      " 3 3 3 3 3 3 3 3 3 3 3 3 3 3 3 3 3 3 3 3 3 3 3 3 3 3 3 3 3 3 3 3 3 3 3 3 3\n",
      " 3 3 3 3 3 3 3 3 3 3 3 3 3 3 3 3 3 3 3 3 3 3 3 3 3 3 3 3 3 3 4 4 4 4 4 4 4\n",
      " 4 4 4 4 4 4 4 4 4 4 4 4 4 4 4 4 4 4 4 4 4 4 4 4 4 4 4 4 4 4 4 4 4 4 4 4 4\n",
      " 4 4 4 4 4 4 4 4 4 4 4 4 4 4 4 4 4 4 4 4 4 4 4 4 4 4 4 4 4 4 4 4 4 4 4 4 4\n",
      " 4 4 4 4 4 4 4 4 4 4 4 4 4 4 4 4 4 4 4 5 5 5 5 5 5 5 5 5 5 5 5 5 5 5 5 5 5\n",
      " 5 5 5 5 5 5 5 5 5 5 5 5 5 5 5 5 5 5 5 5 5 5 5 5 5 5 5 5 5 5 5 5 5 5 5 5 5\n",
      " 5 5 5 5 5 5 5 5 5 5 5 5 5 5 5 5 5 5 5 5 5 5 5 5 5 5 5 5 5 5 5 5 5 5 5 5 5\n",
      " 5 5 5 5 5 5 5 5 6 6 6 6 6 6 6 6 6 6 6 6 6 6 6 6 6 6 6 6 6 6 6 6 6 6 6 6 6\n",
      " 6 6 6 6 6 6 6 6 6 6 6 6 6 6 6 6 6 6 6 6 6 6 6 6 6 6 6 6 6 6 6 6 6 6 6 6 6\n",
      " 6 6 6 6 6 6 6 6 6 6 6 6 6 6 6 6 6 6 6 6 6 6 6 6 6 6 6 6 6 6 6 6 6 6 7 7 7\n",
      " 7 7 7 7 7 7 7 7 7 7 7 7 7 7 7 7 7 7 7 7 7 7 7 7 7 7 7 7 7 7 7 7 7 7 7 7 7\n",
      " 7 7 7 7 7 7 7 7 7 7 7 7 7 7 7 7 7 7 7 7 7 7 7 7 7 7 7 7 7 7 7 7 7 7 7 7 7\n",
      " 7 7 7 7 7 7 7 7 7 7 7 7 7 7 7 7 7 7 7 7 7 7 7 8 8 8 8 8 8 8 8 8 8 8 8 8 8\n",
      " 8 8 8 8 8 8 8 8 8 8 8 8 8 8 8 8 8 8 8 8 8 8 8 8 8 8 8 8 8 8 8 8 8 8 8 8 8\n",
      " 8 8 8 8 8 8 8 8 8 8 8 8 8 8 8 8 8 8 8 8 8 8 8 8 8 8 8 8 8 8 8 8 8 8 8 8 8\n",
      " 8 8 8 8 8 8 8 8 8 8 8 8 9 9 9 9 9 9 9 9 9 9 9 9 9 9 9 9 9 9 9 9 9 9 9 9 9\n",
      " 9 9 9 9 9 9 9 9 9 9 9 9 9 9 9 9 9 9 9 9 9 9 9 9 9 9 9 9 9 9 9 9 9 9 9 9 9\n",
      " 9 9 9 9 9 9 9 9 9 9 9 9 9 9 9 9 9 9 9 9 9 9 9 9 9 9 9 9 9 9 9 9 9 9 9 9 9\n",
      " 9]\n",
      "[[ 0.  0.]\n",
      " [ 0.  1.]\n",
      " [ 0.  2.]\n",
      " ...\n",
      " [ 9. 97.]\n",
      " [ 9. 98.]\n",
      " [ 9. 99.]]\n",
      "[[ 0  0]\n",
      " [ 0  1]\n",
      " [ 0  2]\n",
      " ...\n",
      " [ 9 97]\n",
      " [ 9 98]\n",
      " [ 9 99]]\n"
     ]
    }
   ],
   "source": [
    "a = 10\n",
    "b = 100\n",
    "rows = np.arange(b)\n",
    "columns = np.arange(a)\n",
    "\n",
    "rows_grid, columns_grid = np.meshgrid(columns, rows, indexing='ij')\n",
    "points1 = np.zeros((a*b, 2))\n",
    "for i in range(a*b):\n",
    "    points1[i,:] = [rows_grid.flatten()[i], columns_grid.flatten()[i]]\n",
    "\n",
    "points2 = np.column_stack((rows_grid.ravel(), columns_grid.ravel()))\n",
    "\n",
    "\n",
    "print(points1)\n",
    "print(points2)"
   ]
  },
  {
   "cell_type": "code",
   "execution_count": 18,
   "id": "5cb0d9c5-0e04-489a-a3cb-9bdd016ffc97",
   "metadata": {},
   "outputs": [
    {
     "name": "stdout",
     "output_type": "stream",
     "text": [
      "(10, 100)\n"
     ]
    }
   ],
   "source": [
    "T_field = np.random.randint(0,2, size = (a,b))\n",
    "\n",
    "condition = T_field>0\n",
    "condition = np.array(condition)\n",
    "print(condition.shape)"
   ]
  },
  {
   "cell_type": "code",
   "execution_count": 2,
   "id": "9023c7bd-4e2d-44ab-8952-ecbfa24c07be",
   "metadata": {},
   "outputs": [
    {
     "data": {
      "text/plain": [
       "<matplotlib.image.AxesImage at 0x1a874f9e0>"
      ]
     },
     "execution_count": 2,
     "metadata": {},
     "output_type": "execute_result"
    },
    {
     "data": {
      "image/png": "[encoded data removed]",
      "text/plain": [
       "<Figure size 640x480 with 1 Axes>"
      ]
     },
     "metadata": {},
     "output_type": "display_data"
    }
   ],
   "source": [
    "a = 100\n",
    "b = 500\n",
    "\n",
    "T_field = np.zeros((a,b))\n",
    "\n",
    "a1_start = 30\n",
    "a1_end = 50\n",
    "a2_start = 30\n",
    "a2_end = 50\n",
    "\n",
    "b1_start = 150\n",
    "b1_end = 250\n",
    "b2_start = 300\n",
    "b2_end = 400\n",
    "\n",
    "T_field[a1_start:a1_end, b1_start:b1_end] = 1100\n",
    "T_field[a2_start:a2_end, b2_start:b2_end] = 1100\n",
    "\n",
    "plt.imshow(T_field)\n"
   ]
  },
  {
   "cell_type": "code",
   "execution_count": 23,
   "id": "4da126b4-e9b6-4532-85b6-0c3184b214fc",
   "metadata": {},
   "outputs": [
    {
     "name": "stdout",
     "output_type": "stream",
     "text": [
      "100 20\n"
     ]
    },
    {
     "data": {
      "image/png": "[encoded data removed]",
      "text/plain": [
       "<Figure size 640x480 with 1 Axes>"
      ]
     },
     "metadata": {},
     "output_type": "display_data"
    }
   ],
   "source": [
    "silli = np.zeros_like(T_field)\n",
    "silli[T_field==1100] = 1\n",
    "\n",
    "silli[a2_start:a2_end, b2_start:b2_end] = 2\n",
    "\n",
    "plt.imshow(silli)\n",
    "\n",
    "\n",
    "boole = silli==1\n",
    "\n",
    "width, thickness = get_width_and_thickness(boole)\n",
    "\n",
    "print(width, thickness)"
   ]
  },
  {
   "cell_type": "code",
   "execution_count": 24,
   "id": "e61b685e-4d66-4397-81b3-98d1222f170d",
   "metadata": {
    "scrolled": true
   },
   "outputs": [
    {
     "name": "stdout",
     "output_type": "stream",
     "text": [
      "Sill nodes 4000\n",
      "Hot sills 4000\n",
      "   sills  closest_sill  distance index of closest sill  temperature  \\\n",
      "0      1           2.0      51.0             [ 30 300]       1100.0   \n",
      "\n",
      "  index of current sill  width of current sill  thickness of current sill  \\\n",
      "0             [ 30 249]                    100                         20   \n",
      "\n",
      "   width of closest sill  thickness of closest sill  \\\n",
      "0                    100                         20   \n",
      "\n",
      "   original width of closest sill  original hickness of closest sill  \n",
      "0                             100                                 20  \n"
     ]
    }
   ],
   "source": [
    "dx = 50\n",
    "dy = 50\n",
    "result = check_closest_sill_temp(T_field, silli, 1, dx, dy, no_sill = 0)\n",
    "\n",
    "# Display the result\n",
    "print(result)"
   ]
  },
  {
   "cell_type": "code",
   "execution_count": 4,
   "id": "013d9850-ffec-4774-a011-796eb89a3915",
   "metadata": {},
   "outputs": [],
   "source": [
    "rock = np.zeros_like(T_field, dtype = 'object')\n",
    "rock[:] = 'sandstone'\n",
    "rock[T_field!=0] = 'basalt'\n",
    "dx = 50\n",
    "dy = 50\n",
    "k = np.ones_like(T_field)*31.536\n",
    "\n",
    "dt = (dx**2)/k[0:0]"
   ]
  },
  {
   "cell_type": "code",
   "execution_count": 7,
   "id": "86af8df9-5033-4be1-a80c-0d7783621da0",
   "metadata": {},
   "outputs": [
    {
     "name": "stdout",
     "output_type": "stream",
     "text": [
      "nan\n"
     ]
    }
   ],
   "source": [
    "H = TuLIP.rules.get_latH(T_field, rock)\n",
    "print(np.max(H))"
   ]
  }
 ],
 "metadata": {
  "kernelspec": {
   "display_name": "Python 3 (ipykernel)",
   "language": "python",
   "name": "python3"
  },
  "language_info": {
   "codemirror_mode": {
    "name": "ipython",
    "version": 3
   },
   "file_extension": ".py",
   "mimetype": "text/x-python",
   "name": "python",
   "nbconvert_exporter": "python",
   "pygments_lexer": "ipython3",
   "version": "3.12.8"
  }
 },
 "nbformat": 4,
 "nbformat_minor": 5
}
